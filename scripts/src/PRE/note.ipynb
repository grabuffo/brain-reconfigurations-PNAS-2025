{
 "cells": [
  {
   "cell_type": "code",
   "execution_count": 1,
   "metadata": {},
   "outputs": [],
   "source": [
    "from helpers import *\n",
    "from vbi.feature_extraction.features_utils import get_fc"
   ]
  },
  {
   "cell_type": "code",
   "execution_count": 2,
   "metadata": {},
   "outputs": [],
   "source": [
    "path = \"output/\"\n",
    "data_path = \"../../../data/SBI/PRE/\""
   ]
  },
  {
   "cell_type": "code",
   "execution_count": 3,
   "metadata": {},
   "outputs": [
    {
     "data": {
      "text/plain": [
       "(3700, 108, 900)"
      ]
     },
     "execution_count": 3,
     "metadata": {},
     "output_type": "execute_result"
    }
   ],
   "source": [
    "data_ppc = np.load(path + \"/output_ppc.npz\")\n",
    "data_ppc_Th = np.load(path + \"/output_ppc_Th.npz\")\n",
    "Bolds_ppc = data_ppc[\"fmri_d\"]\n",
    "Bolds_ppc_Th = data_ppc_Th[\"fmri_d\"]\n",
    "Bolds_ppc = Bolds_ppc.transpose(2, 1, 0)\n",
    "Bolds_ppc_Th = Bolds_ppc_Th.transpose(2, 1, 0)\n",
    "Bold_ppc = Bolds_ppc[:, :, 50:-1]\n",
    "Bold_ppc_Th = Bolds_ppc_Th[:, :, 50:-1]\n",
    "Bold_ppc = Bold_ppc[:, :, :900]\n",
    "Bold_ppc_Th = Bold_ppc_Th[:, :, :900]\n",
    "Bold_ppc.shape, Bold_ppc_Th.shape\n",
    "Bold_ppc = np.concatenate((Bold_ppc, Bold_ppc_Th), axis=0)\n",
    "Bold_ppc.shape"
   ]
  },
  {
   "cell_type": "code",
   "execution_count": 4,
   "metadata": {},
   "outputs": [],
   "source": [
    "def interpolate_vector(x, nt_new):\n",
    "    nt = len(x)\n",
    "    if nt == nt_new:\n",
    "        return x\n",
    "    else:\n",
    "        return np.interp(np.linspace(0, nt, nt_new), np.arange(nt), x)\n",
    "    \n",
    "def interpolate_bold(bold, nt_new):\n",
    "    '''  \n",
    "    interpolate each row to have nn by nt_new matrix \n",
    "    \n",
    "    bold : np.ndarray (nn x nt)\n",
    "    '''\n",
    "    nn, _ = bold.shape\n",
    "    bold_new = np.zeros((nn, nt_new))\n",
    "    for i in range(nn):\n",
    "        bold_new[i] = interpolate_vector(bold[i], nt_new)\n",
    "    \n",
    "    # append nn x 50 zeros and the beginning and 50 x 1 zeros at the end\n",
    "    bold_new = np.hstack([np.zeros((nn, 50)), bold_new, np.zeros((nn, 1))])\n",
    "\n",
    "    return bold_new\n",
    "\n",
    "def load_pickle(filename):\n",
    "    with open(filename, \"rb\") as f:\n",
    "        return pickle.load(f)\n",
    "    \n",
    "def get_bold_emp(group, subject_id, prepost, BOLD, nt=900, offset=50):\n",
    "    TR_map = {\"ACA\": 0.3, \"RSC\":0.3, \"CTRL\": 0.3, \"Th\": 0.3}\n",
    "    bold = BOLD[group][f'{subject_id}_{prepost}'].T\n",
    "    if group == \"Th\":\n",
    "        bold = interpolate_bold(bold, 900)\n",
    "    \n",
    "    t = np.arange(0, bold.shape[1]) * TR_map[group]\n",
    "    \n",
    "    return bold[:, offset:nt+offset], t[offset:nt+offset]\n",
    "\n",
    "\n",
    "def preprocess(bold, nt=900):\n",
    "    bold = bold - np.mean(bold, axis=1, keepdims=True)\n",
    "    return bold[:, :nt]\n",
    "\n",
    "# uncomment the following lines to load the empirical data if available\n",
    "# load empirical data:\n",
    "# BOLD_file = (\n",
    "#     \"/home/ziaee/Desktop/workstation/Giovanni/OCT/G/Allen_connectome/BOLD_data.pkl\"\n",
    "# )\n",
    "groups = [\"RSC\", \"ACA\", \"CTRL\"]  # \"Th\"\n",
    "# BOLD = load_pickle(BOLD_file)"
   ]
  },
  {
   "cell_type": "code",
   "execution_count": 8,
   "metadata": {},
   "outputs": [],
   "source": [
    "fs = {\"ACA\": 1./0.3, \"RSC\": 1./0.3, \"Th\": 1./1.75, \"CTRL\": 1./0.3}\n",
    "n_subjects = {\"ACA\": 7, \"RSC\": 14, \"Th\": 8, \"CTRL\": 8}\n",
    "Bold = {\"ACA\":[], \"RSC\":[], \"CTRL\":[], \"Th\":[]}\n",
    "\n",
    "# for g in ['RSC', 'ACA', \"CTRL\", \"Th\"]:\n",
    "#     for p in [\"pre\"]:\n",
    "#         for i in range(n_subjects[g]):\n",
    "#             bold, times = get_bold_emp(g, i, p, BOLD, nt=900, offset=50)\n",
    "#             Bold[g].append(bold)                "
   ]
  },
  {
   "cell_type": "code",
   "execution_count": 9,
   "metadata": {},
   "outputs": [
    {
     "data": {
      "text/plain": [
       "(7, (108, 900))"
      ]
     },
     "execution_count": 9,
     "metadata": {},
     "output_type": "execute_result"
    }
   ],
   "source": [
    "# len(Bold['ACA']), Bold['ACA'][0].shape"
   ]
  },
  {
   "cell_type": "code",
   "execution_count": 5,
   "metadata": {},
   "outputs": [],
   "source": [
    "def get_features(bold):\n",
    "    \"\"\"  \n",
    "    bold: [nn, nt]\n",
    "    \"\"\"\n",
    "    bold = preprocess(bold)\n",
    "    fcd = get_fcd(bold, wwidth=50)['full']\n",
    "    fc = get_fc(bold)['full']\n",
    "    \n",
    "    return fc, fcd\n"
   ]
  },
  {
   "cell_type": "code",
   "execution_count": 6,
   "metadata": {},
   "outputs": [],
   "source": [
    "def plot_half_matrix(\n",
    "    A,\n",
    "    ax,\n",
    "    cmap=\"hot\",\n",
    "    mask=\"upper\",\n",
    "    k=2,\n",
    "    vmax=None,\n",
    "    vmin=None,\n",
    "    colorbar_ticks=None,\n",
    "    colorbar=True,\n",
    "):\n",
    "    if mask == \"upper\":\n",
    "        _mask = np.triu(np.ones_like(A), k=k)\n",
    "    elif mask == \"lower\":\n",
    "        _mask = np.tril(np.ones_like(A), k=-k)\n",
    "    else:\n",
    "        raise ValueError(\"mask must be either 'upper' or 'lower'\")\n",
    "\n",
    "    from mpl_toolkits.axes_grid1 import make_axes_locatable\n",
    "\n",
    "    masked_matrix = np.ma.masked_where(_mask == 0, A)\n",
    "    im = ax.imshow(masked_matrix, cmap=cmap, vmax=vmax, vmin=vmin)\n",
    "\n",
    "    if colorbar:\n",
    "        divider = make_axes_locatable(ax)\n",
    "        cax = divider.append_axes(\"right\", size=\"3%\", pad=0.05)\n",
    "        plt.colorbar(im, cax=cax, ax=ax, ticks=colorbar_ticks)\n",
    "    ax.set_xticks([])\n",
    "    ax.set_yticks([])\n",
    "\n",
    "\n",
    "def plot_hist(ax, data, bins=100, color=\"blue\", alpha=0.5, label=None):\n",
    "    ax.hist(data, bins=bins, color=color, alpha=alpha, label=label)\n",
    "    ax.set_yticks([])"
   ]
  },
  {
   "cell_type": "code",
   "execution_count": 10,
   "metadata": {},
   "outputs": [
    {
     "data": {
      "text/plain": [
       "((108, 900), (108, 900))"
      ]
     },
     "execution_count": 10,
     "metadata": {},
     "output_type": "execute_result"
    }
   ],
   "source": [
    "# print(Bold[\"ACA\"][0].shape)\n",
    "print(Bold_ppc[0].shape)"
   ]
  },
  {
   "cell_type": "code",
   "execution_count": 11,
   "metadata": {},
   "outputs": [
    {
     "data": {
      "text/plain": [
       "3700"
      ]
     },
     "execution_count": 11,
     "metadata": {},
     "output_type": "execute_result"
    }
   ],
   "source": [
    "len(Bold_ppc)"
   ]
  },
  {
   "cell_type": "code",
   "execution_count": 23,
   "metadata": {},
   "outputs": [],
   "source": [
    "import tqdm\n",
    "from scipy.stats import ks_2samp\n",
    "\n",
    "def get_ks_dist(n_ensemble=100):\n",
    "    \n",
    "    n_subjects = {\"ACA\": 7, \"RSC\": 14, \"CTRL\": 8, \"Th\": 8}\n",
    "    \n",
    "    idx = 0\n",
    "    ks_dist_fc = []\n",
    "    ks_dist_fcd = []\n",
    "    corr_fc = []\n",
    "    for g in ['RSC', \"ACA\", \"CTRL\", \"Th\"]:\n",
    "        for i in tqdm.tqdm(range(n_subjects[g])):\n",
    "            bold_e = Bold[g][i]\n",
    "            fc_e, fcd_e = get_features(bold_e)\n",
    "            \n",
    "            for j in range(n_ensemble):\n",
    "                bold_s = Bold_ppc[idx]\n",
    "                idx += 1\n",
    "                if np.isnan(bold_s).any():\n",
    "                    ks_dist_fc.append([idx, 1])\n",
    "                    ks_dist_fcd.append([idx, 1])\n",
    "                    corr_fc.append([idx, 0])\n",
    "                else:\n",
    "                    fc_s, fcd_s = get_features(bold_s)\n",
    "                    ks_dist_fcd.append([idx, ks_2samp(fcd_e.flatten(), fcd_s.flatten())[0]])\n",
    "                    ks_dist_fc.append([idx, ks_2samp(fc_e.flatten(), fc_s.flatten())[0]])\n",
    "                    corr_fc.append([idx, np.corrcoef(fc_e.flatten(), fc_s.flatten())[0, 1]])\n",
    "                    \n",
    "    print(idx)\n",
    "    return ks_dist_fc, ks_dist_fcd, corr_fc"
   ]
  },
  {
   "cell_type": "code",
   "execution_count": 24,
   "metadata": {},
   "outputs": [
    {
     "name": "stderr",
     "output_type": "stream",
     "text": [
      "100%|██████████| 14/14 [01:14<00:00,  5.35s/it]\n",
      "100%|██████████| 7/7 [00:33<00:00,  4.85s/it]\n",
      "100%|██████████| 8/8 [00:40<00:00,  5.10s/it]\n",
      "100%|██████████| 8/8 [01:02<00:00,  7.79s/it]"
     ]
    },
    {
     "name": "stdout",
     "output_type": "stream",
     "text": [
      "3700\n"
     ]
    },
    {
     "name": "stderr",
     "output_type": "stream",
     "text": [
      "\n"
     ]
    }
   ],
   "source": [
    "ks_dist_fc, ks_dist_fcd, corr_fc = get_ks_dist()"
   ]
  },
  {
   "cell_type": "code",
   "execution_count": 25,
   "metadata": {},
   "outputs": [
    {
     "data": {
      "text/plain": [
       "(3700, 3700)"
      ]
     },
     "execution_count": 25,
     "metadata": {},
     "output_type": "execute_result"
    }
   ],
   "source": [
    "len(ks_dist_fc), len(ks_dist_fcd)"
   ]
  },
  {
   "cell_type": "code",
   "execution_count": 12,
   "metadata": {},
   "outputs": [
    {
     "data": {
      "text/plain": [
       "(3700, 10)"
      ]
     },
     "execution_count": 12,
     "metadata": {},
     "output_type": "execute_result"
    }
   ],
   "source": [
    "peak_df = pd.read_csv(data_path + \"/peaks.csv\")\n",
    "peak_df.shape"
   ]
  },
  {
   "cell_type": "code",
   "execution_count": 27,
   "metadata": {},
   "outputs": [],
   "source": [
    "df = peak_df.copy()\n",
    "ks_fc = [ks_dist_fc[i][1] for i in range(len(ks_dist_fc))]\n",
    "ks_fcd = [ks_dist_fcd[i][1] for i in range(len(ks_dist_fcd))]\n",
    "corr_fc = [corr_fc[i][1] for i in range(len(corr_fc))]\n",
    "df['ks_fc'] = ks_fc\n",
    "df['ks_fcd'] = ks_fcd\n",
    "df['ks_fc_fcd'] = np.array(ks_fcd) + np.array(ks_fc)\n",
    "df['corr_fc'] = corr_fc"
   ]
  },
  {
   "cell_type": "code",
   "execution_count": 14,
   "metadata": {},
   "outputs": [
    {
     "name": "stdout",
     "output_type": "stream",
     "text": [
      "(3700, 14)\n"
     ]
    },
    {
     "data": {
      "text/html": [
       "<div>\n",
       "<style scoped>\n",
       "    .dataframe tbody tr th:only-of-type {\n",
       "        vertical-align: middle;\n",
       "    }\n",
       "\n",
       "    .dataframe tbody tr th {\n",
       "        vertical-align: top;\n",
       "    }\n",
       "\n",
       "    .dataframe thead th {\n",
       "        text-align: right;\n",
       "    }\n",
       "</style>\n",
       "<table border=\"1\" class=\"dataframe\">\n",
       "  <thead>\n",
       "    <tr style=\"text-align: right;\">\n",
       "      <th></th>\n",
       "      <th>group</th>\n",
       "      <th>subject_id</th>\n",
       "      <th>ensemble</th>\n",
       "      <th>g</th>\n",
       "      <th>eta1</th>\n",
       "      <th>eta2</th>\n",
       "      <th>eta3</th>\n",
       "      <th>eta4</th>\n",
       "      <th>eta5</th>\n",
       "      <th>eta6</th>\n",
       "      <th>ks_fc</th>\n",
       "      <th>ks_fcd</th>\n",
       "      <th>ks_fc_fcd</th>\n",
       "      <th>corr_fc</th>\n",
       "    </tr>\n",
       "  </thead>\n",
       "  <tbody>\n",
       "    <tr>\n",
       "      <th>0</th>\n",
       "      <td>RSC</td>\n",
       "      <td>0</td>\n",
       "      <td>0</td>\n",
       "      <td>0.382328</td>\n",
       "      <td>-4.544004</td>\n",
       "      <td>-5.971716</td>\n",
       "      <td>-4.206444</td>\n",
       "      <td>-4.049391</td>\n",
       "      <td>-4.943881</td>\n",
       "      <td>-4.069718</td>\n",
       "      <td>1.000000</td>\n",
       "      <td>1.000000</td>\n",
       "      <td>2.000000</td>\n",
       "      <td>0.000000</td>\n",
       "    </tr>\n",
       "    <tr>\n",
       "      <th>1</th>\n",
       "      <td>RSC</td>\n",
       "      <td>0</td>\n",
       "      <td>1</td>\n",
       "      <td>0.571165</td>\n",
       "      <td>-3.692640</td>\n",
       "      <td>-4.888504</td>\n",
       "      <td>-4.900546</td>\n",
       "      <td>-4.597633</td>\n",
       "      <td>-4.413955</td>\n",
       "      <td>-4.107019</td>\n",
       "      <td>0.108711</td>\n",
       "      <td>0.763261</td>\n",
       "      <td>0.871971</td>\n",
       "      <td>0.110446</td>\n",
       "    </tr>\n",
       "    <tr>\n",
       "      <th>2</th>\n",
       "      <td>RSC</td>\n",
       "      <td>0</td>\n",
       "      <td>2</td>\n",
       "      <td>0.643984</td>\n",
       "      <td>-3.627785</td>\n",
       "      <td>-5.271295</td>\n",
       "      <td>-4.567267</td>\n",
       "      <td>-4.341366</td>\n",
       "      <td>-4.802573</td>\n",
       "      <td>-4.135063</td>\n",
       "      <td>1.000000</td>\n",
       "      <td>1.000000</td>\n",
       "      <td>2.000000</td>\n",
       "      <td>0.000000</td>\n",
       "    </tr>\n",
       "    <tr>\n",
       "      <th>3</th>\n",
       "      <td>RSC</td>\n",
       "      <td>0</td>\n",
       "      <td>3</td>\n",
       "      <td>0.570303</td>\n",
       "      <td>-3.735444</td>\n",
       "      <td>-4.474549</td>\n",
       "      <td>-4.982661</td>\n",
       "      <td>-4.184890</td>\n",
       "      <td>-5.887011</td>\n",
       "      <td>-4.087141</td>\n",
       "      <td>0.086763</td>\n",
       "      <td>0.792793</td>\n",
       "      <td>0.879556</td>\n",
       "      <td>0.084613</td>\n",
       "    </tr>\n",
       "    <tr>\n",
       "      <th>4</th>\n",
       "      <td>RSC</td>\n",
       "      <td>0</td>\n",
       "      <td>4</td>\n",
       "      <td>0.532017</td>\n",
       "      <td>-3.701018</td>\n",
       "      <td>-5.512277</td>\n",
       "      <td>-4.416490</td>\n",
       "      <td>-4.064951</td>\n",
       "      <td>-4.359322</td>\n",
       "      <td>-3.695864</td>\n",
       "      <td>0.105453</td>\n",
       "      <td>0.703418</td>\n",
       "      <td>0.808871</td>\n",
       "      <td>0.130877</td>\n",
       "    </tr>\n",
       "  </tbody>\n",
       "</table>\n",
       "</div>"
      ],
      "text/plain": [
       "  group  subject_id  ensemble         g      eta1      eta2      eta3  \\\n",
       "0   RSC           0         0  0.382328 -4.544004 -5.971716 -4.206444   \n",
       "1   RSC           0         1  0.571165 -3.692640 -4.888504 -4.900546   \n",
       "2   RSC           0         2  0.643984 -3.627785 -5.271295 -4.567267   \n",
       "3   RSC           0         3  0.570303 -3.735444 -4.474549 -4.982661   \n",
       "4   RSC           0         4  0.532017 -3.701018 -5.512277 -4.416490   \n",
       "\n",
       "       eta4      eta5      eta6     ks_fc    ks_fcd  ks_fc_fcd   corr_fc  \n",
       "0 -4.049391 -4.943881 -4.069718  1.000000  1.000000   2.000000  0.000000  \n",
       "1 -4.597633 -4.413955 -4.107019  0.108711  0.763261   0.871971  0.110446  \n",
       "2 -4.341366 -4.802573 -4.135063  1.000000  1.000000   2.000000  0.000000  \n",
       "3 -4.184890 -5.887011 -4.087141  0.086763  0.792793   0.879556  0.084613  \n",
       "4 -4.064951 -4.359322 -3.695864  0.105453  0.703418   0.808871  0.130877  "
      ]
     },
     "execution_count": 14,
     "metadata": {},
     "output_type": "execute_result"
    }
   ],
   "source": [
    "# df.to_csv(path + \"/peaks_ks.csv\", index=False)\n",
    "df = pd.read_csv(data_path + \"/peaks_ks.csv\")\n",
    "print(df.shape)\n",
    "df.head()"
   ]
  },
  {
   "cell_type": "code",
   "execution_count": 32,
   "metadata": {},
   "outputs": [],
   "source": [
    "\n",
    "os.makedirs(path+\"/figs/fcfcd\", exist_ok=True)\n",
    "\n",
    "def plot(n_ensemble=100, groups=['RSC', \"ACA\", \"CTRL\", \"Th\"]):\n",
    "    \n",
    "    n_subjects = {\"ACA\": 7, \"RSC\": 14, \"CTRL\": 8, \"Th\": 8}\n",
    "    \n",
    "    idx = 0\n",
    "    for g in groups:\n",
    "        for i in tqdm.tqdm(range(n_subjects[g]), disable=True, desc=g):\n",
    "            bold_e = Bold[g][i]\n",
    "            fc_e, fcd_e = get_features(bold_e)\n",
    "            \n",
    "            # find min value of ks_fc from dataframe df with group g and subject i\n",
    "            # ks_fc_i = df[(df.group == g) & (df.subject_id == i)].ks_fc.idxmin()\n",
    "            # ks_fcd_i = df[(df.group == g) & (df.subject_id == i)].ks_fcd.idxmin() \n",
    "            ks_fc_fcd_i = df[(df.group == g) & (df.subject_id == i)].ks_fc_fcd.idxmin()\n",
    "            \n",
    "            bold_s = Bold_ppc[ks_fc_fcd_i]\n",
    "\n",
    "            fc_e, fcd_e = get_features(bold_e)\n",
    "            fc_s, fcd_s = get_features(bold_s)\n",
    "            \n",
    "            fig, axs = plt.subplots(1, 4, figsize=(13, 3))\n",
    "            plot_half_matrix(fc_e, axs[0], cmap=\"coolwarm\", vmax=1, vmin=-0.2, colorbar=False, mask=\"lower\")\n",
    "            plot_half_matrix(fc_s, axs[0], cmap=\"coolwarm\", vmax=1, vmin=-0.2, colorbar=True, mask='upper')\n",
    "\n",
    "            plot_half_matrix(fcd_e, axs[1], cmap=\"coolwarm\", vmax=1, vmin=-0.2, colorbar=False, mask=\"lower\")\n",
    "            plot_half_matrix(fcd_s, axs[1], cmap=\"coolwarm\", vmax=1, vmin=-0.2, colorbar=True, mask='upper')\n",
    "            \n",
    "            plot_hist(axs[2], fc_e.flatten(), bins=100, color=\"blue\", alpha=0.5, label=\"Empirical\")\n",
    "            plot_hist(axs[2], fc_s.flatten(), bins=100, color=\"red\", alpha=0.5, label=\"Predicted\")\n",
    "            \n",
    "            plot_hist(axs[3], fcd_e.flatten(), bins=100, color=\"blue\", alpha=0.5, label=\"Empirical\")\n",
    "            plot_hist(axs[3], fcd_s.flatten(), bins=100, color=\"red\", alpha=0.5, label=\"Predicted\")\n",
    "            \n",
    "            fcd_ks_dist, p_value = ks_2samp(fcd_e.flatten(), fcd_s.flatten())\n",
    "            fc_ks_dist, p_value = ks_2samp(fc_e.flatten(), fc_s.flatten())\n",
    "            corr_fc = np.corrcoef(fc_e.flatten(), fc_s.flatten())[0, 1]\n",
    "            axs[2].legend(frameon=False)\n",
    "            axs[0].set_title('FC predicted')\n",
    "            axs[0].set_ylabel('FC empirical')\n",
    "            axs[1].set_title('FCD predicted')\n",
    "            axs[1].set_ylabel('FCD empirical')\n",
    "            axs[2].set_title(\"KS FC: {:.2f}, Corr: {:.2f}\".format(fc_ks_dist, corr_fc))\n",
    "            axs[3].set_title(\"KS FCD: {:.2f}\".format(fcd_ks_dist))\n",
    "            plt.tight_layout()\n",
    "            plt.savefig(f\"{path}/figs/fcfcd/{g}_{i}.png\", bbox_inches='tight')\n",
    "            plt.close()"
   ]
  },
  {
   "cell_type": "code",
   "execution_count": 33,
   "metadata": {},
   "outputs": [],
   "source": [
    "plot(groups=['Th'])"
   ]
  },
  {
   "cell_type": "code",
   "execution_count": 16,
   "metadata": {},
   "outputs": [],
   "source": [
    "import tqdm "
   ]
  },
  {
   "cell_type": "code",
   "execution_count": 17,
   "metadata": {},
   "outputs": [
    {
     "data": {
      "text/html": [
       "<div>\n",
       "<style scoped>\n",
       "    .dataframe tbody tr th:only-of-type {\n",
       "        vertical-align: middle;\n",
       "    }\n",
       "\n",
       "    .dataframe tbody tr th {\n",
       "        vertical-align: top;\n",
       "    }\n",
       "\n",
       "    .dataframe thead th {\n",
       "        text-align: right;\n",
       "    }\n",
       "</style>\n",
       "<table border=\"1\" class=\"dataframe\">\n",
       "  <thead>\n",
       "    <tr style=\"text-align: right;\">\n",
       "      <th></th>\n",
       "      <th>group</th>\n",
       "      <th>subject_id</th>\n",
       "      <th>ks_fc_fcd</th>\n",
       "      <th>ks_fc</th>\n",
       "      <th>ks_fcd</th>\n",
       "      <th>g</th>\n",
       "      <th>eta1</th>\n",
       "      <th>eta2</th>\n",
       "      <th>eta3</th>\n",
       "      <th>eta4</th>\n",
       "      <th>eta5</th>\n",
       "      <th>eta6</th>\n",
       "    </tr>\n",
       "  </thead>\n",
       "  <tbody>\n",
       "    <tr>\n",
       "      <th>0</th>\n",
       "      <td>RSC</td>\n",
       "      <td>0</td>\n",
       "      <td>0.246743</td>\n",
       "      <td>0.161351</td>\n",
       "      <td>0.085392</td>\n",
       "      <td>0.647236</td>\n",
       "      <td>-3.850671</td>\n",
       "      <td>-4.965111</td>\n",
       "      <td>-4.645602</td>\n",
       "      <td>-4.107086</td>\n",
       "      <td>-5.199185</td>\n",
       "      <td>-4.656292</td>\n",
       "    </tr>\n",
       "    <tr>\n",
       "      <th>1</th>\n",
       "      <td>RSC</td>\n",
       "      <td>1</td>\n",
       "      <td>0.296758</td>\n",
       "      <td>0.073045</td>\n",
       "      <td>0.223713</td>\n",
       "      <td>0.853356</td>\n",
       "      <td>-3.807516</td>\n",
       "      <td>-4.648150</td>\n",
       "      <td>-4.337480</td>\n",
       "      <td>-5.691139</td>\n",
       "      <td>-3.733423</td>\n",
       "      <td>-4.690051</td>\n",
       "    </tr>\n",
       "    <tr>\n",
       "      <th>2</th>\n",
       "      <td>RSC</td>\n",
       "      <td>2</td>\n",
       "      <td>0.445386</td>\n",
       "      <td>0.314986</td>\n",
       "      <td>0.130400</td>\n",
       "      <td>0.543796</td>\n",
       "      <td>-4.182987</td>\n",
       "      <td>-4.903880</td>\n",
       "      <td>-4.781250</td>\n",
       "      <td>-4.013793</td>\n",
       "      <td>-4.155088</td>\n",
       "      <td>-4.265911</td>\n",
       "    </tr>\n",
       "    <tr>\n",
       "      <th>3</th>\n",
       "      <td>RSC</td>\n",
       "      <td>3</td>\n",
       "      <td>0.099736</td>\n",
       "      <td>0.066358</td>\n",
       "      <td>0.033378</td>\n",
       "      <td>0.738217</td>\n",
       "      <td>-4.236919</td>\n",
       "      <td>-4.705533</td>\n",
       "      <td>-5.444082</td>\n",
       "      <td>-3.511773</td>\n",
       "      <td>-4.412962</td>\n",
       "      <td>-4.820805</td>\n",
       "    </tr>\n",
       "    <tr>\n",
       "      <th>4</th>\n",
       "      <td>RSC</td>\n",
       "      <td>4</td>\n",
       "      <td>0.225897</td>\n",
       "      <td>0.086248</td>\n",
       "      <td>0.139649</td>\n",
       "      <td>0.874624</td>\n",
       "      <td>-4.578669</td>\n",
       "      <td>-5.199881</td>\n",
       "      <td>-5.472660</td>\n",
       "      <td>-5.333493</td>\n",
       "      <td>-4.941657</td>\n",
       "      <td>-4.204763</td>\n",
       "    </tr>\n",
       "  </tbody>\n",
       "</table>\n",
       "</div>"
      ],
      "text/plain": [
       "  group  subject_id  ks_fc_fcd     ks_fc    ks_fcd         g      eta1  \\\n",
       "0   RSC           0   0.246743  0.161351  0.085392  0.647236 -3.850671   \n",
       "1   RSC           1   0.296758  0.073045  0.223713  0.853356 -3.807516   \n",
       "2   RSC           2   0.445386  0.314986  0.130400  0.543796 -4.182987   \n",
       "3   RSC           3   0.099736  0.066358  0.033378  0.738217 -4.236919   \n",
       "4   RSC           4   0.225897  0.086248  0.139649  0.874624 -4.578669   \n",
       "\n",
       "       eta2      eta3      eta4      eta5      eta6  \n",
       "0 -4.965111 -4.645602 -4.107086 -5.199185 -4.656292  \n",
       "1 -4.648150 -4.337480 -5.691139 -3.733423 -4.690051  \n",
       "2 -4.903880 -4.781250 -4.013793 -4.155088 -4.265911  \n",
       "3 -4.705533 -5.444082 -3.511773 -4.412962 -4.820805  \n",
       "4 -5.199881 -5.472660 -5.333493 -4.941657 -4.204763  "
      ]
     },
     "execution_count": 17,
     "metadata": {},
     "output_type": "execute_result"
    }
   ],
   "source": [
    "# optimal parameters by minimizing ks_fc_fcd\n",
    "\n",
    "df_opt = pd.DataFrame(columns=[\"group\", \"subject_id\", \"ks_fc_fcd\", 'ks_fc', 'ks_fcd', \n",
    "                               'g', 'eta1', 'eta2', 'eta3', 'eta4', 'eta5', 'eta6'])\n",
    "data_opt = []\n",
    "n_subjects = {\"ACA\": 7, \"RSC\": 14, \"CTRL\": 8, \"Th\": 8}   \n",
    "optimal_indices = []\n",
    "for g in ['RSC', \"ACA\", \"CTRL\", \"Th\"]:\n",
    "    for i in tqdm.tqdm(range(n_subjects[g]), disable=True, desc=g):\n",
    "        ii = df[(df.group == g) & (df.subject_id == i)].ks_fc_fcd.idxmin()\n",
    "        data_opt.append([g, i, df.iloc[ii].ks_fc_fcd, df.iloc[ii].ks_fc, df.iloc[ii].ks_fcd, \n",
    "                         df.iloc[ii].g, df.iloc[ii].eta1, df.iloc[ii].eta2, \n",
    "                         df.iloc[ii].eta3, df.iloc[ii].eta4, df.iloc[ii].eta5, \n",
    "                         df.iloc[ii].eta6])\n",
    "        optimal_indices.append(ii)\n",
    "\n",
    "df_opt = pd.DataFrame(data_opt, columns=[\"group\", \"subject_id\", \"ks_fc_fcd\", 'ks_fc', 'ks_fcd',\n",
    "                                         'g', 'eta1', 'eta2', 'eta3', 'eta4', 'eta5', 'eta6'])\n",
    "\n",
    "# df_opt.to_csv(path + \"/peaks_ks_opt.csv\", index=False)\n",
    "df_opt.head()\n"
   ]
  },
  {
   "cell_type": "code",
   "execution_count": 20,
   "metadata": {},
   "outputs": [],
   "source": [
    "np.savetxt(data_path + \"/optimal_indices.txt\", optimal_indices, fmt='%d')"
   ]
  },
  {
   "cell_type": "code",
   "execution_count": 23,
   "metadata": {},
   "outputs": [],
   "source": [
    "# Bold_ppc.shape\n",
    "\n",
    "# Bold_optimal = []\n",
    "# for i in optimal_indices:\n",
    "#     bold = Bold_ppc[i]\n",
    "#     if np.isnan(bold).any():\n",
    "#         print(i)\n",
    "#     Bold_optimal.append(bold)\n",
    "# Bold_optibal = np.array(Bold_optimal)\n",
    "# np.savez(path + \"/Bold_optimal.npz\", Bold=Bold_optimal)"
   ]
  }
 ],
 "metadata": {
  "language_info": {
   "name": "python"
  }
 },
 "nbformat": 4,
 "nbformat_minor": 2
}

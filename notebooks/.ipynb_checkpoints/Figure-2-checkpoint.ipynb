{
 "cells": [
  {
   "cell_type": "code",
   "execution_count": 1,
   "metadata": {},
   "outputs": [
    {
     "name": "stdout",
     "output_type": "stream",
     "text": [
      "Populating the interactive namespace from numpy and matplotlib\n"
     ]
    }
   ],
   "source": [
    "%pylab nbagg\n",
    "%matplotlib inline"
   ]
  },
  {
   "cell_type": "code",
   "execution_count": 2,
   "metadata": {},
   "outputs": [],
   "source": [
    "import os\n",
    "import sys\n",
    "import mpmath\n",
    "from scipy import stats\n",
    "from scipy.stats import ks_2samp\n",
    "parent_dir = os.path.abspath(os.path.join(os.getcwd(), '..'))\n",
    "sys.path.append(os.path.join(parent_dir, 'scripts'))\n",
    "from F1_functions import *\n",
    "from Allen_Connectome_metadata import *\n",
    "from Mouse_dataset_metadata import *"
   ]
  },
  {
   "cell_type": "code",
   "execution_count": 3,
   "metadata": {},
   "outputs": [],
   "source": [
    "from scipy.stats import ks_2samp"
   ]
  },
  {
   "cell_type": "code",
   "execution_count": 4,
   "metadata": {},
   "outputs": [],
   "source": [
    "CL={'Th':'#F45A25','ACA':'#008080','RSC':'#9F00E7','CTRL':'#1A202E'} #Th, ACA, RSC, CTRL"
   ]
  },
  {
   "cell_type": "markdown",
   "metadata": {},
   "source": [
    "# 1) Delta Global Connectivity distributions"
   ]
  },
  {
   "cell_type": "code",
   "execution_count": 13,
   "metadata": {},
   "outputs": [],
   "source": [
    "DGC_RSC=GC_vox['RSC'][:,1,:]-GC_vox['RSC'][:,0,:]\n",
    "DGC_CTRL=GC_vox['CTRL'][:,1,:]-GC_vox['CTRL'][:,0,:]\n",
    "DGC_ACA=GC_vox['ACA'][:,1,:]-GC_vox['ACA'][:,0,:]\n",
    "DGC_Th=GC_vox['Th'][:,1,:]-GC_vox['Th'][:,0,:]"
   ]
  },
  {
   "cell_type": "code",
   "execution_count": 49,
   "metadata": {},
   "outputs": [
    {
     "data": {
      "image/png": "[encoded data removed]",
      "text/plain": [
       "<Figure size 201.6x288 with 3 Axes>"
      ]
     },
     "metadata": {
      "needs_background": "light"
     },
     "output_type": "display_data"
    }
   ],
   "source": [
    "plt.figure(figsize=(2.8, 4))\n",
    "\n",
    "# First subplot - RSC and CTRL\n",
    "plt.subplot(3, 1, 1)\n",
    "# RSC distribution\n",
    "xx, yy = np.histogram(np.mean(DGC_RSC, axis=0), bins=100, density=True)  # Normalize to area = 1\n",
    "plt.plot(yy[:-1], xx/np.max(xx), color=CL['RSC'], label='RSC')\n",
    "# CTRL distribution\n",
    "xx, yy = np.histogram(np.mean(DGC_CTRL, axis=0), bins=100, density=True)  # Normalize to area = 1\n",
    "plt.plot(yy[:-1], xx/np.max(xx), color=CL['CTRL'], label='CTRL')\n",
    "plt.axvline(0, linewidth=1, color='k', alpha=0.8, linestyle=':')\n",
    "plt.xticks(fontsize=10)\n",
    "plt.yticks([0,0.5,1],fontsize=10)\n",
    "plt.legend(fontsize=10, handlelength=.5)\n",
    "\n",
    "# Second subplot - ACA\n",
    "plt.subplot(3, 1, 2)\n",
    "xx, yy = np.histogram(np.mean(DGC_ACA, axis=0), bins=100, density=True)  # Normalize to area = 1\n",
    "plt.plot(yy[:-1], xx/np.max(xx), color=CL['ACA'], label='ACA')\n",
    "plt.axvline(0, linewidth=1, color='k', alpha=0.8, linestyle=':')\n",
    "#plt.yticks([])  # Remove y-ticks\n",
    "plt.xticks(fontsize=10)\n",
    "plt.legend(fontsize=10, handlelength=.5)\n",
    "\n",
    "# Third subplot - Th\n",
    "plt.subplot(3, 1, 3)\n",
    "xx, yy = np.histogram(np.mean(DGC_Th, axis=0), bins=100, density=True)  # Normalize to area = 1\n",
    "plt.plot(yy[:-1], xx/np.max(xx), color=CL['Th'], label='Th')\n",
    "plt.axvline(0, linewidth=1, color='k', alpha=0.8, linestyle=':')\n",
    "#plt.yticks([])  # Remove y-ticks\n",
    "plt.xticks(fontsize=10)\n",
    "plt.legend(fontsize=10, handlelength=0.5)\n",
    "\n",
    "# Adjust layout\n",
    "plt.tight_layout()\n",
    "plt.subplots_adjust(wspace=0.05)  # Reduce horizontal space between subplots\n",
    "plt.savefig('../figures/Figure2/Hist_DeltaGlobalConnectivity.png',dpi=400)\n",
    "plt.show()\n"
   ]
  },
  {
   "cell_type": "code",
   "execution_count": 15,
   "metadata": {},
   "outputs": [
    {
     "data": {
      "text/plain": [
       "KstestResult(statistic=0.6239302438236719, pvalue=0.0)"
      ]
     },
     "execution_count": 15,
     "metadata": {},
     "output_type": "execute_result"
    }
   ],
   "source": [
    "# Delta GC - RSC vs CTRL\n",
    "ks_2samp(np.mean(DGC_RSC,axis=0),np.mean(DGC_CTRL,axis=0),mode='auto')"
   ]
  },
  {
   "cell_type": "code",
   "execution_count": 16,
   "metadata": {},
   "outputs": [
    {
     "data": {
      "text/plain": [
       "-0.011325756526555783"
      ]
     },
     "execution_count": 16,
     "metadata": {},
     "output_type": "execute_result"
    }
   ],
   "source": [
    "# Mean Delta GC - RSC\n",
    "np.mean(np.mean(DGC_RSC,axis=0))"
   ]
  },
  {
   "cell_type": "code",
   "execution_count": 17,
   "metadata": {},
   "outputs": [
    {
     "data": {
      "text/plain": [
       "0.0007508467626262539"
      ]
     },
     "execution_count": 17,
     "metadata": {},
     "output_type": "execute_result"
    }
   ],
   "source": [
    "# Mean Delta GC - CTRL\n",
    "np.mean(np.mean(DGC_CTRL,axis=0))"
   ]
  },
  {
   "cell_type": "code",
   "execution_count": 18,
   "metadata": {},
   "outputs": [
    {
     "data": {
      "text/plain": [
       "-0.00878879174944913"
      ]
     },
     "execution_count": 18,
     "metadata": {},
     "output_type": "execute_result"
    }
   ],
   "source": [
    "# Mean Delta GC - ACA\n",
    "np.mean(np.mean(DGC_ACA,axis=0))"
   ]
  },
  {
   "cell_type": "code",
   "execution_count": 19,
   "metadata": {},
   "outputs": [
    {
     "data": {
      "text/plain": [
       "-0.0026286985417647572"
      ]
     },
     "execution_count": 19,
     "metadata": {},
     "output_type": "execute_result"
    }
   ],
   "source": [
    "# Mean Delta GC - Th\n",
    "np.mean(np.mean(DGC_Th,axis=0))"
   ]
  },
  {
   "cell_type": "code",
   "execution_count": 20,
   "metadata": {},
   "outputs": [
    {
     "data": {
      "text/plain": [
       "0.8292044503520639"
      ]
     },
     "execution_count": 20,
     "metadata": {},
     "output_type": "execute_result"
    }
   ],
   "source": [
    "# Kurtosis Delta GC - RSC\n",
    "stats.kurtosis(np.mean(DGC_RSC,axis=0))"
   ]
  },
  {
   "cell_type": "code",
   "execution_count": 21,
   "metadata": {},
   "outputs": [
    {
     "data": {
      "text/plain": [
       "0.3318868385058895"
      ]
     },
     "execution_count": 21,
     "metadata": {},
     "output_type": "execute_result"
    }
   ],
   "source": [
    "# Kurtosis Delta GC - CTRL\n",
    "stats.kurtosis(np.mean(DGC_CTRL,axis=0))"
   ]
  },
  {
   "cell_type": "code",
   "execution_count": 22,
   "metadata": {},
   "outputs": [
    {
     "data": {
      "text/plain": [
       "0.523957032209942"
      ]
     },
     "execution_count": 22,
     "metadata": {},
     "output_type": "execute_result"
    }
   ],
   "source": [
    "# Kurtosis Delta GC - ACA\n",
    "stats.kurtosis(np.mean(DGC_ACA,axis=0))"
   ]
  },
  {
   "cell_type": "code",
   "execution_count": 23,
   "metadata": {},
   "outputs": [
    {
     "data": {
      "text/plain": [
       "0.09056304693280293"
      ]
     },
     "execution_count": 23,
     "metadata": {},
     "output_type": "execute_result"
    }
   ],
   "source": [
    "# Kurtosis Delta GC - Th\n",
    "stats.kurtosis(np.mean(DGC_Th,axis=0))"
   ]
  },
  {
   "cell_type": "code",
   "execution_count": 24,
   "metadata": {},
   "outputs": [
    {
     "data": {
      "text/plain": [
       "-0.7268241149297274"
      ]
     },
     "execution_count": 24,
     "metadata": {},
     "output_type": "execute_result"
    }
   ],
   "source": [
    "# Skew Delta GC - RSC\n",
    "stats.skew(np.mean(DGC_RSC,axis=0))"
   ]
  },
  {
   "cell_type": "code",
   "execution_count": 25,
   "metadata": {},
   "outputs": [
    {
     "data": {
      "text/plain": [
       "0.10982497837399999"
      ]
     },
     "execution_count": 25,
     "metadata": {},
     "output_type": "execute_result"
    }
   ],
   "source": [
    "# Skew Delta GC - CTRL\n",
    "stats.skew(np.mean(DGC_CTRL,axis=0))"
   ]
  },
  {
   "cell_type": "code",
   "execution_count": 26,
   "metadata": {},
   "outputs": [
    {
     "data": {
      "text/plain": [
       "-0.3881797420219378"
      ]
     },
     "execution_count": 26,
     "metadata": {},
     "output_type": "execute_result"
    }
   ],
   "source": [
    "# Skew Delta GC - ACA\n",
    "stats.skew(np.mean(DGC_ACA,axis=0))"
   ]
  },
  {
   "cell_type": "code",
   "execution_count": 27,
   "metadata": {},
   "outputs": [
    {
     "data": {
      "text/plain": [
       "0.1461752045713131"
      ]
     },
     "execution_count": 27,
     "metadata": {},
     "output_type": "execute_result"
    }
   ],
   "source": [
    "# Skew Delta GC - Th\n",
    "stats.skew(np.mean(DGC_Th,axis=0))"
   ]
  },
  {
   "cell_type": "markdown",
   "metadata": {},
   "source": [
    "# 2) Delta Global Metastability distributions"
   ]
  },
  {
   "cell_type": "code",
   "execution_count": 14,
   "metadata": {},
   "outputs": [],
   "source": [
    "DGM_RSC=GM_vox['RSC'][:,1,:]-GM_vox['RSC'][:,0,:]\n",
    "DGM_CTRL=GM_vox['CTRL'][:,1,:]-GM_vox['CTRL'][:,0,:]\n",
    "DGM_ACA=GM_vox['ACA'][:,1,:]-GM_vox['ACA'][:,0,:]\n",
    "DGM_Th=GM_vox['Th'][:,1,:]-GM_vox['Th'][:,0,:]"
   ]
  },
  {
   "cell_type": "code",
   "execution_count": 29,
   "metadata": {},
   "outputs": [
    {
     "data": {
      "image/png": "[encoded data removed]",
      "text/plain": [
       "<Figure size 201.6x288 with 3 Axes>"
      ]
     },
     "metadata": {
      "needs_background": "light"
     },
     "output_type": "display_data"
    }
   ],
   "source": [
    "plt.figure(figsize=(2.8, 4))\n",
    "\n",
    "# First subplot - RSC and CTRL\n",
    "plt.subplot(3, 1, 1)\n",
    "# RSC distribution\n",
    "xx, yy = np.histogram(np.mean(DGM_RSC, axis=0), bins=100, density=True)  # Normalize to area = 1\n",
    "plt.plot(yy[:-1], xx/np.max(xx), color=CL['RSC'], label='RSC')\n",
    "# CTRL distribution\n",
    "xx, yy = np.histogram(np.mean(DGM_CTRL, axis=0), bins=100, density=True)  # Normalize to area = 1\n",
    "plt.plot(yy[:-1], xx/np.max(xx), color=CL['CTRL'], label='CTRL')\n",
    "plt.axvline(0, linewidth=1, color='k', alpha=0.8, linestyle=':')\n",
    "plt.xticks(fontsize=10)\n",
    "plt.yticks([0,0.5,1],fontsize=10)\n",
    "plt.legend(fontsize=10, handlelength=.5)\n",
    "\n",
    "# Second subplot - ACA\n",
    "plt.subplot(3, 1, 2)\n",
    "xx, yy = np.histogram(np.mean(DGM_ACA, axis=0), bins=100, density=True)  # Normalize to area = 1\n",
    "plt.plot(yy[:-1], xx/np.max(xx), color=CL['ACA'], label='ACA')\n",
    "plt.axvline(0, linewidth=1, color='k', alpha=0.8, linestyle=':')\n",
    "#plt.yticks([])  # Remove y-ticks\n",
    "plt.xticks(fontsize=10)\n",
    "plt.legend(fontsize=10, handlelength=.5)\n",
    "\n",
    "# Third subplot - Th\n",
    "plt.subplot(3, 1, 3)\n",
    "xx, yy = np.histogram(np.mean(DGM_Th, axis=0), bins=100, density=True)  # Normalize to area = 1\n",
    "plt.plot(yy[:-1], xx/np.max(xx), color=CL['Th'], label='Th')\n",
    "plt.axvline(0, linewidth=1, color='k', alpha=0.8, linestyle=':')\n",
    "#plt.yticks([])  # Remove y-ticks\n",
    "plt.xticks(fontsize=10)\n",
    "plt.legend(fontsize=10, handlelength=0.5)\n",
    "\n",
    "# Adjust layout\n",
    "plt.tight_layout()\n",
    "plt.subplots_adjust(wspace=0.05)  # Reduce horizontal space between subplots\n",
    "plt.savefig('../figures/Figure2/Hist_DeltaGlobalMetastability.png',dpi=400)\n",
    "plt.show()\n"
   ]
  },
  {
   "cell_type": "code",
   "execution_count": 30,
   "metadata": {},
   "outputs": [
    {
     "data": {
      "text/plain": [
       "KstestResult(statistic=0.9997416437913773, pvalue=0.0)"
      ]
     },
     "execution_count": 30,
     "metadata": {},
     "output_type": "execute_result"
    }
   ],
   "source": [
    "# Delta GM - RSC vs CTRL\n",
    "ks_2samp(np.mean(DGM_RSC,axis=0),np.mean(DGM_CTRL,axis=0),mode='auto')"
   ]
  },
  {
   "cell_type": "code",
   "execution_count": 31,
   "metadata": {},
   "outputs": [
    {
     "data": {
      "text/plain": [
       "-0.013804582915803257"
      ]
     },
     "execution_count": 31,
     "metadata": {},
     "output_type": "execute_result"
    }
   ],
   "source": [
    "# Mean Delta GM - RSC\n",
    "np.mean(np.mean(DGM_RSC,axis=0))"
   ]
  },
  {
   "cell_type": "code",
   "execution_count": 32,
   "metadata": {},
   "outputs": [
    {
     "data": {
      "text/plain": [
       "0.0010570319343898543"
      ]
     },
     "execution_count": 32,
     "metadata": {},
     "output_type": "execute_result"
    }
   ],
   "source": [
    "# Mean Delta GM - CTRL\n",
    "np.mean(np.mean(DGM_CTRL,axis=0))"
   ]
  },
  {
   "cell_type": "code",
   "execution_count": 33,
   "metadata": {},
   "outputs": [
    {
     "data": {
      "text/plain": [
       "-0.009629751440256884"
      ]
     },
     "execution_count": 33,
     "metadata": {},
     "output_type": "execute_result"
    }
   ],
   "source": [
    "# Mean Delta GM - ACA\n",
    "np.mean(np.mean(DGM_ACA,axis=0))"
   ]
  },
  {
   "cell_type": "code",
   "execution_count": 34,
   "metadata": {},
   "outputs": [
    {
     "data": {
      "text/plain": [
       "-0.0025845782592888848"
      ]
     },
     "execution_count": 34,
     "metadata": {},
     "output_type": "execute_result"
    }
   ],
   "source": [
    "# Mean Delta GM - Th\n",
    "np.mean(np.mean(DGM_Th,axis=0))"
   ]
  },
  {
   "cell_type": "code",
   "execution_count": 35,
   "metadata": {},
   "outputs": [
    {
     "data": {
      "text/plain": [
       "3.4972934466903762"
      ]
     },
     "execution_count": 35,
     "metadata": {},
     "output_type": "execute_result"
    }
   ],
   "source": [
    "# Kurtosis Delta GM - RSC\n",
    "stats.kurtosis(np.mean(DGM_RSC,axis=0))"
   ]
  },
  {
   "cell_type": "code",
   "execution_count": 36,
   "metadata": {},
   "outputs": [
    {
     "data": {
      "text/plain": [
       "1.1282023880074519"
      ]
     },
     "execution_count": 36,
     "metadata": {},
     "output_type": "execute_result"
    }
   ],
   "source": [
    "# Kurtosis Delta GM - CTRL\n",
    "stats.kurtosis(np.mean(DGM_CTRL,axis=0))"
   ]
  },
  {
   "cell_type": "code",
   "execution_count": 37,
   "metadata": {},
   "outputs": [
    {
     "data": {
      "text/plain": [
       "0.5146649856209176"
      ]
     },
     "execution_count": 37,
     "metadata": {},
     "output_type": "execute_result"
    }
   ],
   "source": [
    "# Kurtosis Delta GM - ACA\n",
    "stats.kurtosis(np.mean(DGM_ACA,axis=0))"
   ]
  },
  {
   "cell_type": "code",
   "execution_count": 38,
   "metadata": {},
   "outputs": [
    {
     "data": {
      "text/plain": [
       "1.3929517236524447"
      ]
     },
     "execution_count": 38,
     "metadata": {},
     "output_type": "execute_result"
    }
   ],
   "source": [
    "# Kurtosis Delta GM - Th\n",
    "stats.kurtosis(np.mean(DGM_Th,axis=0))"
   ]
  },
  {
   "cell_type": "code",
   "execution_count": 39,
   "metadata": {},
   "outputs": [
    {
     "data": {
      "text/plain": [
       "-1.3568907964748604"
      ]
     },
     "execution_count": 39,
     "metadata": {},
     "output_type": "execute_result"
    }
   ],
   "source": [
    "# Skew Delta GM - RSC\n",
    "stats.skew(np.mean(DGM_RSC,axis=0))"
   ]
  },
  {
   "cell_type": "code",
   "execution_count": 40,
   "metadata": {},
   "outputs": [
    {
     "data": {
      "text/plain": [
       "0.008831224400466377"
      ]
     },
     "execution_count": 40,
     "metadata": {},
     "output_type": "execute_result"
    }
   ],
   "source": [
    "# Skew Delta GM - CTRL\n",
    "stats.skew(np.mean(DGM_CTRL,axis=0))"
   ]
  },
  {
   "cell_type": "code",
   "execution_count": 41,
   "metadata": {},
   "outputs": [
    {
     "data": {
      "text/plain": [
       "-0.3763299248262203"
      ]
     },
     "execution_count": 41,
     "metadata": {},
     "output_type": "execute_result"
    }
   ],
   "source": [
    "# Skew Delta GM - ACA\n",
    "stats.skew(np.mean(DGM_ACA,axis=0))"
   ]
  },
  {
   "cell_type": "code",
   "execution_count": 42,
   "metadata": {},
   "outputs": [
    {
     "data": {
      "text/plain": [
       "0.1865881796393218"
      ]
     },
     "execution_count": 42,
     "metadata": {},
     "output_type": "execute_result"
    }
   ],
   "source": [
    "# Skew Delta GM - Th\n",
    "stats.skew(np.mean(DGM_Th,axis=0))"
   ]
  },
  {
   "cell_type": "code",
   "execution_count": 10,
   "metadata": {},
   "outputs": [
    {
     "data": {
      "text/plain": [
       "6"
      ]
     },
     "execution_count": 10,
     "metadata": {},
     "output_type": "execute_result"
    }
   ],
   "source": [
    "len(SUBS['Th'])"
   ]
  },
  {
   "cell_type": "markdown",
   "metadata": {},
   "source": [
    "# 2) NDP distribution"
   ]
  },
  {
   "cell_type": "code",
   "execution_count": 6,
   "metadata": {},
   "outputs": [],
   "source": [
    "# Concatenated Global Signals across mice in the same group\n",
    "\n",
    "GS_conc={'RSC':np.zeros((2,int(len(SUBS['RSC'])*tlen_kai))),\n",
    "         'CTRL':np.zeros((2,int(len(SUBS['CTRL'])*tlen_kai))),\n",
    "        'ACA':np.zeros((2,int(len(SUBS['ACA'])*tlen_kai))),\n",
    "         'Th':np.zeros((2,int(len(SUBS['Th'])*tlen_arm)))}\n",
    "\n",
    "for ii, i in enumerate(SUBS['RSC']):\n",
    "    GS_conc['RSC'][0,ii*tlen_kai:(ii+1)*tlen_kai]=np.asarray(GS['RSC'][i+'_Baseline'])\n",
    "    GS_conc['RSC'][1,ii*tlen_kai:(ii+1)*tlen_kai]=np.asarray(GS['RSC'][i+'_CNO'])\n",
    "\n",
    "for ii, i in enumerate(SUBS['CTRL']):\n",
    "    GS_conc['CTRL'][0,ii*tlen_kai:(ii+1)*tlen_kai]=np.asarray(GS['CTRL'][i+'_Baseline'])\n",
    "    GS_conc['CTRL'][1,ii*tlen_kai:(ii+1)*tlen_kai]=np.asarray(GS['CTRL'][i+'_CNO'])\n",
    "    \n",
    "for ii, i in enumerate(SUBS['ACA']):\n",
    "    GS_conc['ACA'][0,ii*tlen_kai:(ii+1)*tlen_kai]=np.asarray(GS['ACA'][i+'_Baseline'])\n",
    "    GS_conc['ACA'][1,ii*tlen_kai:(ii+1)*tlen_kai]=np.asarray(GS['ACA'][i+'_CNO'])\n",
    "    \n",
    "for ii, i in enumerate(SUBS['Th']):\n",
    "    GS_conc['Th'][0,ii*tlen_arm:(ii+1)*tlen_arm]=np.asarray(GS['Th'][i])\n",
    "    GS_conc['Th'][1,ii*tlen_arm:(ii+1)*tlen_arm]=np.asarray(GS['Th'][i+'_post'])"
   ]
  },
  {
   "cell_type": "code",
   "execution_count": 11,
   "metadata": {},
   "outputs": [],
   "source": [
    "# The Network Dynamic Profile (NDP) is defined as the square of the Global Signal\n",
    "# We store the histograms for the concatenated NDP acr\n",
    "\n",
    "nbins=50\n",
    "\n",
    "Profiles={'RSC':np.zeros((2,nbins)),'CTRL':np.zeros((2,nbins)),\n",
    "          'Th':np.zeros((2,nbins)),'ACA':np.zeros((2,nbins))}\n",
    "\n",
    "bins_RSC=np.histogram(np.hstack((GS_conc['RSC'][0]**2,GS_conc['RSC'][1]**2)), bins=nbins)[1]\n",
    "bins_CTRL=np.histogram(np.hstack((GS_conc['CTRL'][0]**2,GS_conc['CTRL'][1]**2)), bins=nbins)[1]\n",
    "bins_Th=np.histogram(np.hstack((GS_conc['Th'][0]**2,GS_conc['Th'][1]**2)), bins=nbins)[1]\n",
    "bins_ACA=np.histogram(np.hstack((GS_conc['ACA'][0]**2,GS_conc['ACA'][1]**2)), bins=nbins)[1]\n",
    "\n",
    "a=GS_conc['Th'][0]**2\n",
    "b=GS_conc['Th'][1]**2\n",
    "xx,yy=np.histogram(a, bins_Th)\n",
    "xxp,yyp=np.histogram(b, bins_Th)    \n",
    "Profiles['Th'][0,:]=xx; Profiles['Th'][1,:]=xxp; \n",
    "\n",
    "a=GS_conc['ACA'][0]**2\n",
    "b=GS_conc['ACA'][1]**2\n",
    "xx,yy=np.histogram(a, bins_ACA)\n",
    "xxp,yyp=np.histogram(b, bins_ACA)    \n",
    "Profiles['ACA'][0,:]=xx; Profiles['ACA'][1,:]=xxp; \n",
    "\n",
    "a=GS_conc['RSC'][0]**2\n",
    "b=GS_conc['RSC'][1]**2\n",
    "xx,yy=np.histogram(a, bins_RSC)\n",
    "xxp,yyp=np.histogram(b, bins_RSC)    \n",
    "Profiles['RSC'][0,:]=xx; Profiles['RSC'][1,:]=xxp; \n",
    "\n",
    "a=GS_conc['CTRL'][0]**2\n",
    "b=GS_conc['CTRL'][1]**2\n",
    "xx,yy=np.histogram(a, bins_CTRL)\n",
    "xxp,yyp=np.histogram(b, bins_CTRL)    \n",
    "Profiles['CTRL'][0,:]=xx; Profiles['CTRL'][1,:]=xxp; "
   ]
  },
  {
   "cell_type": "code",
   "execution_count": 16,
   "metadata": {},
   "outputs": [
    {
     "data": {
      "image/png": "[encoded data removed]",
      "text/plain": [
       "<Figure size 288x273.6 with 4 Axes>"
      ]
     },
     "metadata": {
      "needs_background": "light"
     },
     "output_type": "display_data"
    }
   ],
   "source": [
    "ini=7\n",
    "plt.figure(figsize=(4,3.8))\n",
    "#plt.title('Delta FCdegree distribution')\n",
    "#plt.suptitle('NDP profiles distribution',fontsize=14)\n",
    "\n",
    "plt.subplot(2,2,1)\n",
    "plt.loglog(bins_CTRL[1:],Profiles['CTRL'][0,:],color=CL['CTRL'],label='pre',linewidth=1)\n",
    "plt.loglog(bins_CTRL[1:],Profiles['CTRL'][1,:],color=CL['CTRL'],label='post',linestyle=':',linewidth=2)\n",
    "plt.text(0.4, 0.7, 'CTRL \\n p=%.4f' % stats.ks_2samp(Profiles['CTRL'][0, :], Profiles['CTRL'][1, ini:])[1],\n",
    "         fontsize=10, transform=plt.gca().transAxes)\n",
    "plt.axvline(bins_CTRL[1:][ini],linestyle='--',linewidth=1,c='darkgray')\n",
    "plt.yticks(fontsize=10)\n",
    "plt.xticks(fontsize=10)\n",
    "plt.legend(fontsize=10, handlelength=0.75)\n",
    "\n",
    "plt.subplot(2,2,2)\n",
    "plt.loglog(bins_RSC[1:],Profiles['RSC'][0,:],color=CL['RSC'],label='pre',linewidth=1)\n",
    "plt.loglog(bins_RSC[1:],Profiles['RSC'][1,:],color=CL['RSC'],label='post',linestyle=':',linewidth=2)\n",
    "#plt.title('RSC, p<0.001',fontsize=10)\n",
    "plt.axvline(bins_RSC[1:][ini],linestyle='--',linewidth=1,c='darkgray')\n",
    "plt.text(0.4, 0.7, 'RSC \\n p<0.001', fontsize=10, transform=plt.gca().transAxes)\n",
    "plt.xticks(fontsize=10)\n",
    "plt.legend(fontsize=10, handlelength=0.75)\n",
    "\n",
    "plt.subplot(2,2,3)\n",
    "plt.loglog(bins_ACA[1:],Profiles['ACA'][0,:],color=CL['ACA'],label='pre',linewidth=1)\n",
    "plt.loglog(bins_ACA[1:],Profiles['ACA'][1,:],color=CL['ACA'],label='post',linestyle=':',linewidth=2)\n",
    "#plt.title('ACA, p=%.4f'%stats.ks_2samp(Profiles['ACA'][0,0,:],Profiles['ACA'][0,1,ini:])[1],fontsize=10)\n",
    "plt.axvline(bins_ACA[1:][ini],linestyle='--',linewidth=1,c='darkgray')\n",
    "plt.text(0.4, 0.7, 'ACA \\n p=%.4f' % stats.ks_2samp(Profiles['ACA'][0, :], Profiles['ACA'][1, ini:])[1],\n",
    "         fontsize=10, transform=plt.gca().transAxes)\n",
    "plt.xticks(fontsize=10)\n",
    "plt.legend(fontsize=10, handlelength=0.75)\n",
    "\n",
    "plt.subplot(2,2,4)\n",
    "plt.loglog(bins_Th[1:],Profiles['Th'][0,:],color=CL['Th'],label='pre',linewidth=1)\n",
    "plt.loglog(bins_Th[1:],Profiles['Th'][1,:],color=CL['Th'],label='post',linestyle=':',linewidth=2)\n",
    "#plt.title('Th, p=%.4f'%stats.ks_2samp(Profiles['Th'][0,0,:],Profiles['Th'][0,1,ini:])[1],fontsize=10)\n",
    "plt.axvline(bins_Th[1:][ini],linestyle='--',linewidth=1,c='darkgray')\n",
    "plt.xticks(fontsize=10)\n",
    "#plt.yticks([])  # Remove y-ticks\n",
    "plt.text(0.4, 0.7, 'Th \\n p=%.4f' % stats.ks_2samp(Profiles['Th'][0, :], Profiles['Th'][1, ini:])[1],\n",
    "         fontsize=10, transform=plt.gca().transAxes)\n",
    "plt.legend(fontsize=10, handlelength=0.75,loc='lower left')\n",
    "\n",
    "plt.subplots_adjust(wspace=0.3, hspace=0.3)\n",
    "#plt.tight_layout()\n",
    "plt.savefig('../figures/Figure2/NDPdistribution.pdf')\n",
    "plt.show()"
   ]
  },
  {
   "cell_type": "code",
   "execution_count": 14,
   "metadata": {},
   "outputs": [
    {
     "data": {
      "text/plain": [
       "8.478650004306587e-10"
      ]
     },
     "execution_count": 14,
     "metadata": {},
     "output_type": "execute_result"
    }
   ],
   "source": [
    "stats.ks_2samp(Profiles['RSC'][0, :], Profiles['RSC'][1, 7:])[1]"
   ]
  },
  {
   "cell_type": "code",
   "execution_count": null,
   "metadata": {},
   "outputs": [],
   "source": []
  },
  {
   "cell_type": "code",
   "execution_count": null,
   "metadata": {},
   "outputs": [],
   "source": []
  },
  {
   "cell_type": "markdown",
   "metadata": {},
   "source": [
    "# 3) Significance mask - RSC versus CTRL group"
   ]
  },
  {
   "cell_type": "code",
   "execution_count": 7,
   "metadata": {},
   "outputs": [],
   "source": [
    "#Paired T test, No FDR corrected for multiple comparison\n",
    "pGC=[]\n",
    "nvox=len(DGC_CTRL[0])\n",
    "for i in range(nvox):\n",
    "    a=DGC_RSC[:,i]\n",
    "    b=DGC_CTRL[:,i]\n",
    "    pGC.append(stats.mannwhitneyu(a, b)[1])\n",
    "pGC=np.asarray(pGC)"
   ]
  },
  {
   "cell_type": "code",
   "execution_count": 8,
   "metadata": {},
   "outputs": [],
   "source": [
    "#Paired T test, FDR corrected for multiple comparison\n",
    "pGM=[]\n",
    "nvox=len(DGM_CTRL[0])\n",
    "for i in range(nvox):\n",
    "    a=DGM_RSC[:,i]\n",
    "    b=DGM_CTRL[:,i]\n",
    "    pGM.append(stats.mannwhitneyu(a, b)[1])\n",
    "pGM=np.asarray(pGM)\n",
    "pGM=np.where(fdr(pGM)<0.05,fdr(pGM),1)"
   ]
  },
  {
   "cell_type": "code",
   "execution_count": 53,
   "metadata": {},
   "outputs": [],
   "source": []
  },
  {
   "cell_type": "code",
   "execution_count": null,
   "metadata": {},
   "outputs": [],
   "source": [
    "plot_brain(vol_img, Template, Mask, title, cbar_label, vmin, vmax, cmap='jet', background='off', view='coronal')"
   ]
  },
  {
   "cell_type": "code",
   "execution_count": 18,
   "metadata": {},
   "outputs": [
    {
     "data": {
      "image/png": "[encoded data removed]",
      "text/plain": [
       "<Figure size 252x180 with 2 Axes>"
      ]
     },
     "metadata": {
      "needs_background": "light"
     },
     "output_type": "display_data"
    }
   ],
   "source": [
    "SigGC=np.where(pGC<0.05,1,0)\n",
    "lims=1.35\n",
    "limso=0\n",
    "plot_brain(SigGC, Template, msk,'Significance_GC','',limso,lims,'Blues','on','coronal') "
   ]
  },
  {
   "cell_type": "code",
   "execution_count": 19,
   "metadata": {},
   "outputs": [
    {
     "data": {
      "image/png": "[encoded data removed]",
      "text/plain": [
       "<Figure size 252x180 with 2 Axes>"
      ]
     },
     "metadata": {
      "needs_background": "light"
     },
     "output_type": "display_data"
    }
   ],
   "source": [
    "SigGM=np.where(pGM<0.05,1,0)\n",
    "lims=1.35\n",
    "limso=0\n",
    "plot_brain(SigGM, Template, msk,'Significance_GM','',limso,lims,'Blues','on','coronal') "
   ]
  },
  {
   "cell_type": "code",
   "execution_count": null,
   "metadata": {},
   "outputs": [],
   "source": [
    "# Examples"
   ]
  },
  {
   "cell_type": "code",
   "execution_count": 17,
   "metadata": {},
   "outputs": [
    {
     "data": {
      "image/png": "[encoded data removed]",
      "text/plain": [
       "<Figure size 288x129.6 with 2 Axes>"
      ]
     },
     "metadata": {
      "needs_background": "light"
     },
     "output_type": "display_data"
    }
   ],
   "source": [
    "plt.figure(figsize=(4,1.8))\n",
    "iii=5000#18981 #voxel\n",
    "\n",
    "plt.subplot(1,2,1)\n",
    "box_plot_data=[DGC_CTRL[:,iii],DGC_RSC[:,iii]]\n",
    "#plt.title(\"LGC_post-LGC_pre\")\n",
    "plt.boxplot(box_plot_data,patch_artist=False,labels=['CTRL','RSC'],widths=0.25)\n",
    "\n",
    "for i in range(len(DGC_CTRL)):\n",
    "    pr=DGC_CTRL[:,iii]\n",
    "    plt.scatter(np.ones(len(pr)),pr,color=CL['CTRL'],alpha=.1)\n",
    "    \n",
    "for i in range(len(DGC_RSC)):\n",
    "    pr=DGC_RSC[:,iii]\n",
    "    plt.scatter(2*np.ones(len(pr)),pr,color=CL['RSC'],alpha=.1)\n",
    "    \n",
    "p=stats.ks_2samp(DGC_CTRL[:,iii], DGC_RSC[:,iii])[1]\n",
    "bottom, top = np.min(DGC_RSC[:,iii]),np.max(DGC_CTRL[:,iii]+0.05)\n",
    "bars(p, bottom, top)\n",
    "plt.axhline(0,linestyle='dashed',c='darkgray')\n",
    "plt.subplot(1,2,2)\n",
    "iii=3216 #voxel\n",
    "box_plot_data=[DGM_CTRL[:,iii],DGM_RSC[:,iii]]\n",
    "#plt.title(\"LGC_post-LGC_pre\")\n",
    "plt.boxplot(box_plot_data,patch_artist=False,labels=['CTRL','RSC'],widths=0.25)\n",
    "\n",
    "for i in range(len(DGM_CTRL)):\n",
    "    pr=DGM_CTRL[:,iii]\n",
    "    plt.scatter(np.ones(len(pr)),pr,color=CL['CTRL'],alpha=.1)\n",
    "    \n",
    "for i in range(len(DGM_RSC)):\n",
    "    pr=DGM_RSC[:,iii]\n",
    "    plt.scatter(2*np.ones(len(pr)),pr,color=CL['RSC'],alpha=.1)\n",
    "    \n",
    "p=stats.ks_2samp(DGM_CTRL[:,iii], DGM_RSC[:,iii])[1]\n",
    "bottom, top = np.min(DGM_RSC[:,iii]),np.max(DGM_CTRL[:,iii]+0.05)\n",
    "bars(p, bottom, top)\n",
    "\n",
    "plt.axhline(0,linestyle='dashed',c='darkgray')\n",
    "plt.tight_layout()\n",
    "plt.savefig('../figures/Figure2/Example_significance1.png',dpi=400)\n",
    "plt.show()"
   ]
  },
  {
   "cell_type": "code",
   "execution_count": null,
   "metadata": {},
   "outputs": [],
   "source": []
  }
 ],
 "metadata": {
  "kernelspec": {
   "display_name": "p36workshop",
   "language": "python",
   "name": "p36workshop"
  },
  "language_info": {
   "codemirror_mode": {
    "name": "ipython",
    "version": 3
   },
   "file_extension": ".py",
   "mimetype": "text/x-python",
   "name": "python",
   "nbconvert_exporter": "python",
   "pygments_lexer": "ipython3",
   "version": "3.6.12"
  }
 },
 "nbformat": 4,
 "nbformat_minor": 4
}
